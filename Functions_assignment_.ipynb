{
  "nbformat": 4,
  "nbformat_minor": 0,
  "metadata": {
    "colab": {
      "provenance": []
    },
    "kernelspec": {
      "name": "python3",
      "display_name": "Python 3"
    },
    "language_info": {
      "name": "python"
    }
  },
  "cells": [
    {
      "cell_type": "markdown",
      "source": [
        "# Theoritical questions"
      ],
      "metadata": {
        "id": "ixduSxK43Fmr"
      }
    },
    {
      "cell_type": "markdown",
      "source": [
        "1.  What is the difference between a function and a method in Python?\n",
        "    - Methods are inherently tied to objector classes, while functions are independent identities.\n",
        "2.  Explain the concept of function arguments and parameters in Python .\n",
        "    - Parameters are definition time concept.\n",
        "    - Arguments are call time concept.\n",
        "3.   What are the different ways to define and call a function in Python?\n",
        "    - Define example(def greet())\n",
        "    - Call example(greet())\n",
        "4.   What is the purpose of the 'return' statement in a Python function?\n",
        "    - Exiting the Function: When a return statement is encountered in a function, the function stops executing immediately, and any code after the return is ignored.\n",
        "    - Returning a Value: The return statement sends a value from a function back to the caller.\n",
        "5.  What are iterators in Python and how do they differ from iterables?\n",
        "    - An Iterable is basically an object that any user can iterate over. An Iterator is also an object that helps a user in iterating over another object (that is iterable).\n",
        "6.  Explain the concept of generators in Python and how they are defined.\n",
        "    - A generator is a special type of function that produces a sequence of values, one at a time, using the yield keyword .\n",
        "7.  What are the advantages of using generators over regular functions?\n",
        "    - Generators do not store the entire sequence in memory, making them suitable for large datasets or infinite sequences. Using yield simplifies the creation of iterators, making the code more concise and readable.\n",
        "8.  What is a lambda function in Python and when is it typically used?\n",
        "    -  Lambda functions are small, anonymous functions defined using the lambda keyword. They are used for creating small, throwaway functions without the need to formally define a function using def\n",
        "9.  Explain the purpose and usage of the 'map()' function in Python.\n",
        "    - The map function applies a given function to all items in an input iterable (like a list) and returns an iterator with the results.\n",
        "    - It used to transform each item in an iterable by applying the specified function.\n",
        "10. What is the difference between 'map()', 'reduce()', and 'filter()' functions in Python?\n",
        "    - map(): Applies a function to each item in an iterable → returns a new iterable\n",
        "    - filter(): Keeps only the items where the function returns True.\n",
        "    - reduce(): Applies a function to combine all items into a single value.\n",
        "11. Using pen & Paper write the internal mechanism for sum operation using  reduce function on this given list:[47,11,42,13]\n",
        "(Attach paper image for this answer) in doc or colab notebook\n",
        "    - Available in pdf file\n"
      ],
      "metadata": {
        "id": "KYcL6d7Z3Otr"
      }
    },
    {
      "cell_type": "code",
      "execution_count": 1,
      "metadata": {
        "id": "eD5--_Nl3AY6"
      },
      "outputs": [],
      "source": [
        "#  Write a Python function that takes a list of numbers as input and returns the sum of all even numbers in the list.\n",
        "def sum_even_no(*args):\n",
        "  total=0\n",
        "  for num in args:\n",
        "    if num%2==0:\n",
        "      total=total + num\n",
        "  print(\"Your total is:\",total)"
      ]
    },
    {
      "cell_type": "code",
      "source": [
        "sum_even_no(1,2,3,4,5,6,7,8,9)"
      ],
      "metadata": {
        "colab": {
          "base_uri": "https://localhost:8080/"
        },
        "id": "XvecM16Y3pfM",
        "outputId": "faac985c-13f3-43fa-f44f-1ff608a25097"
      },
      "execution_count": 2,
      "outputs": [
        {
          "output_type": "stream",
          "name": "stdout",
          "text": [
            "Your total is: 20\n"
          ]
        }
      ]
    },
    {
      "cell_type": "code",
      "source": [
        "# . Create a Python function that accepts a string and returns the reverse of that string.\n",
        "def reverse(s):\n",
        "   return s[::-1]"
      ],
      "metadata": {
        "id": "YugbTwrq3wPy"
      },
      "execution_count": 8,
      "outputs": []
    },
    {
      "cell_type": "code",
      "source": [
        "reverse(\"Hello\")"
      ],
      "metadata": {
        "colab": {
          "base_uri": "https://localhost:8080/",
          "height": 35
        },
        "id": "k6UW89ne4ClT",
        "outputId": "b9bb9b1f-7b3e-4a4d-f482-1f0711405e19"
      },
      "execution_count": 9,
      "outputs": [
        {
          "output_type": "execute_result",
          "data": {
            "text/plain": [
              "'olleH'"
            ],
            "application/vnd.google.colaboratory.intrinsic+json": {
              "type": "string"
            }
          },
          "metadata": {},
          "execution_count": 9
        }
      ]
    },
    {
      "cell_type": "code",
      "source": [
        "#  Implement a Python function that takes a list of integers and returns a new list containing the squares of each number.\n",
        "def square(numbers):\n",
        "  return [i**2 for i in numbers]"
      ],
      "metadata": {
        "id": "1Foup1Qo4WWa"
      },
      "execution_count": 11,
      "outputs": []
    },
    {
      "cell_type": "code",
      "source": [
        "print(square([1,2,3,4,5,6,7,8,9]))"
      ],
      "metadata": {
        "colab": {
          "base_uri": "https://localhost:8080/"
        },
        "id": "RHLzVKZS400y",
        "outputId": "427fa5aa-f278-4426-8952-dfe174d09090"
      },
      "execution_count": 13,
      "outputs": [
        {
          "output_type": "stream",
          "name": "stdout",
          "text": [
            "[1, 4, 9, 16, 25, 36, 49, 64, 81]\n"
          ]
        }
      ]
    },
    {
      "cell_type": "code",
      "source": [
        "#  Write a Python function that checks if a given number is prime or not from 1 to 200.\n",
        "def is_prime(n):\n",
        "    if n <= 1:\n",
        "        return False  # 0 and 1 are not prime\n",
        "    for i in range(2, int(n**0.5) + 1):  # Check up to square root of n\n",
        "        if n % i == 0:\n",
        "            return False\n",
        "    return True\n"
      ],
      "metadata": {
        "id": "8hhD3egd4-NS"
      },
      "execution_count": 14,
      "outputs": []
    },
    {
      "cell_type": "code",
      "source": [
        "# Check if numbers from 1 to 200 are prime\n",
        "for num in range(1, 201):\n",
        "    if is_prime(num):\n",
        "        print(f\"{num} is a prime number\")"
      ],
      "metadata": {
        "colab": {
          "base_uri": "https://localhost:8080/"
        },
        "id": "cvrsARYs5PIi",
        "outputId": "0e625cec-56d7-4977-e528-238fbcc6acb4"
      },
      "execution_count": 15,
      "outputs": [
        {
          "output_type": "stream",
          "name": "stdout",
          "text": [
            "2 is a prime number\n",
            "3 is a prime number\n",
            "5 is a prime number\n",
            "7 is a prime number\n",
            "11 is a prime number\n",
            "13 is a prime number\n",
            "17 is a prime number\n",
            "19 is a prime number\n",
            "23 is a prime number\n",
            "29 is a prime number\n",
            "31 is a prime number\n",
            "37 is a prime number\n",
            "41 is a prime number\n",
            "43 is a prime number\n",
            "47 is a prime number\n",
            "53 is a prime number\n",
            "59 is a prime number\n",
            "61 is a prime number\n",
            "67 is a prime number\n",
            "71 is a prime number\n",
            "73 is a prime number\n",
            "79 is a prime number\n",
            "83 is a prime number\n",
            "89 is a prime number\n",
            "97 is a prime number\n",
            "101 is a prime number\n",
            "103 is a prime number\n",
            "107 is a prime number\n",
            "109 is a prime number\n",
            "113 is a prime number\n",
            "127 is a prime number\n",
            "131 is a prime number\n",
            "137 is a prime number\n",
            "139 is a prime number\n",
            "149 is a prime number\n",
            "151 is a prime number\n",
            "157 is a prime number\n",
            "163 is a prime number\n",
            "167 is a prime number\n",
            "173 is a prime number\n",
            "179 is a prime number\n",
            "181 is a prime number\n",
            "191 is a prime number\n",
            "193 is a prime number\n",
            "197 is a prime number\n",
            "199 is a prime number\n"
          ]
        }
      ]
    },
    {
      "cell_type": "code",
      "source": [
        "# Create an iterator class in Python that generates the Fibonacci sequence up to a specified number of terms."
      ],
      "metadata": {
        "id": "L39ubqAE5Sxq"
      },
      "execution_count": 16,
      "outputs": []
    },
    {
      "cell_type": "code",
      "source": [
        "#Write a generator function in Python that yields the powers of 2 up to a given exponent.\n",
        "def powers_of_two(max_exp):\n",
        "    for i in range(max_exp + 1):\n",
        "        yield 2 ** i"
      ],
      "metadata": {
        "id": "C8PrBmuu5gWa"
      },
      "execution_count": 17,
      "outputs": []
    },
    {
      "cell_type": "code",
      "source": [
        "for power in powers_of_two(5):\n",
        "    print(power)"
      ],
      "metadata": {
        "colab": {
          "base_uri": "https://localhost:8080/"
        },
        "id": "_J4H3PPe5l56",
        "outputId": "281077cd-2ac4-4fc2-8fca-79cf28b234be"
      },
      "execution_count": 18,
      "outputs": [
        {
          "output_type": "stream",
          "name": "stdout",
          "text": [
            "1\n",
            "2\n",
            "4\n",
            "8\n",
            "16\n",
            "32\n"
          ]
        }
      ]
    },
    {
      "cell_type": "code",
      "source": [
        "# . Implement a generator function that reads a file line by line and yields each line as a string.\n"
      ],
      "metadata": {
        "id": "B03zeQCx5oZK"
      },
      "execution_count": 19,
      "outputs": []
    },
    {
      "cell_type": "code",
      "source": [
        "# Use a lambda function in Python to sort a list of tuples based on the second element of each tuple\n",
        "Data=[(4,2),(1,3),(4,3),(2,1)]\n",
        "sorted_data = sorted(Data, key=lambda x: x[1])\n",
        "print(sorted_data)"
      ],
      "metadata": {
        "colab": {
          "base_uri": "https://localhost:8080/"
        },
        "id": "vKSxZgcH5vVq",
        "outputId": "62ae8bc3-bf24-4254-e835-6c864d6b7821"
      },
      "execution_count": 20,
      "outputs": [
        {
          "output_type": "stream",
          "name": "stdout",
          "text": [
            "[(2, 1), (4, 2), (1, 3), (4, 3)]\n"
          ]
        }
      ]
    },
    {
      "cell_type": "code",
      "source": [
        "#  Write a Python program that uses `map()` to convert a list of temperatures from Celsius to Fahrenheit"
      ],
      "metadata": {
        "id": "O6igssyn54Ti"
      },
      "execution_count": 21,
      "outputs": []
    },
    {
      "cell_type": "code",
      "source": [
        "# Create a Python program that uses `filter()` to remove all the vowels from a given string\n",
        "def remove_vowels(input_str):\n",
        "    vowels = 'aeiouAEIOU'\n",
        "    return ''.join(filter(lambda char: char not in vowels, input_str))"
      ],
      "metadata": {
        "id": "oXCO_tHc6AFK"
      },
      "execution_count": 22,
      "outputs": []
    },
    {
      "cell_type": "code",
      "source": [
        "text = \"Sumeer and Lovepreet are my bestfriend\"\n",
        "result = remove_vowels(text)\n",
        "\n",
        "print(\"Original:\", text)\n",
        "print(\"Without vowels:\", result)"
      ],
      "metadata": {
        "colab": {
          "base_uri": "https://localhost:8080/"
        },
        "id": "1aoFJf1g6HQS",
        "outputId": "0df418d3-215f-4839-9fe9-37cd6dbf7f9c"
      },
      "execution_count": 23,
      "outputs": [
        {
          "output_type": "stream",
          "name": "stdout",
          "text": [
            "Original: Sumeer and Lovepreet are my bestfriend\n",
            "Without vowels: Smr nd Lvprt r my bstfrnd\n"
          ]
        }
      ]
    },
    {
      "cell_type": "code",
      "source": [
        "\"\"\"\n",
        "Imagine an accounting routine used in a book shop. It works on a list with sublists, which look like this:\n",
        "    order number  book title and author              quantity  price\n",
        "    34587         Learning Python, Mark Lutz         4         40.95\n",
        "    98762         Programming Python, Mark Lutz      5         56.80\n",
        "    77226         Head First Python, Paul Barry      3         32.95\n",
        "    88112         Einführung in Python3, Bernd Klein 3         24.99\n",
        "\n",
        " Write a Python program, which returns a list with 2-tuples. Each tuple consists of the order number and the\n",
        "product of the price per item and the quantity. The product should be increased by 10,- € if the value of the\n",
        "order is smaller than 100,00 €.\n",
        " Write a Python program using lambda and map\n",
        " \"\"\"\n",
        ""
      ],
      "metadata": {
        "colab": {
          "base_uri": "https://localhost:8080/",
          "height": 192
        },
        "id": "ExvQxIMA6KWi",
        "outputId": "862112f0-9ac3-42aa-8310-8d78ca9b1837"
      },
      "execution_count": 24,
      "outputs": [
        {
          "output_type": "execute_result",
          "data": {
            "text/plain": [
              "'\\nImagine an accounting routine used in a book shop. It works on a list with sublists, which look like this:\\n    order number  book title and author              quantity  price\\n    34587         Learning Python, Mark Lutz         4         40.95\\n    98762         Programming Python, Mark Lutz      5         56.80\\n    77226         Head First Python, Paul Barry      3         32.95\\n    88112         Einführung in Python3, Bernd Klein 3         24.99\\n\\n Write a Python program, which returns a list with 2-tuples. Each tuple consists of the order number and the \\nproduct of the price per item and the quantity. The product should be increased by 10,- € if the value of the \\norder is smaller than 100,00 €.\\n Write a Python program using lambda and map\\n '"
            ],
            "application/vnd.google.colaboratory.intrinsic+json": {
              "type": "string"
            }
          },
          "metadata": {},
          "execution_count": 24
        }
      ]
    },
    {
      "cell_type": "code",
      "source": [
        "orders = [\n",
        "    [34587, \"Learning Python\", 4, 40.95],\n",
        "    [98762, \"Programming in C\", 5, 19.95],\n",
        "    [77226, \"Data Science Book\", 3, 55.50],\n",
        "    [88112, \"Math for AI\", 1, 89.99]\n",
        "]\n",
        "\n",
        "# Map with lambda to compute total per order with conditional fee\n",
        "final_totals = list(map(\n",
        "    lambda order: (order[0], order[2] * order[3] + 10 if order[2] * order[3] < 100 else order[2] * order[3]),orders))\n",
        "\n",
        "print(final_totals)"
      ],
      "metadata": {
        "colab": {
          "base_uri": "https://localhost:8080/"
        },
        "id": "8Rsysd4o6Q5i",
        "outputId": "09fb46f1-7ff3-40a2-e1f7-4be2dfaac586"
      },
      "execution_count": 25,
      "outputs": [
        {
          "output_type": "stream",
          "name": "stdout",
          "text": [
            "[(34587, 163.8), (98762, 109.75), (77226, 166.5), (88112, 99.99)]\n"
          ]
        }
      ]
    },
    {
      "cell_type": "code",
      "source": [],
      "metadata": {
        "id": "mY0sqjQD6Vxq"
      },
      "execution_count": null,
      "outputs": []
    }
  ]
}